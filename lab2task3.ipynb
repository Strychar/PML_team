{
  "nbformat": 4,
  "nbformat_minor": 0,
  "metadata": {
    "colab": {
      "provenance": [],
      "include_colab_link": true
    },
    "kernelspec": {
      "name": "python3",
      "display_name": "Python 3"
    },
    "language_info": {
      "name": "python"
    }
  },
  "cells": [
    {
      "cell_type": "markdown",
      "metadata": {
        "id": "view-in-github",
        "colab_type": "text"
      },
      "source": [
        "<a href=\"https://colab.research.google.com/github/Strychar/PML_team/blob/task3/lab2task3.ipynb\" target=\"_parent\"><img src=\"https://colab.research.google.com/assets/colab-badge.svg\" alt=\"Open In Colab\"/></a>"
      ]
    },
    {
      "cell_type": "code",
      "execution_count": null,
      "metadata": {
        "id": "VWZI_nUUOadi"
      },
      "outputs": [],
      "source": [
        "def michal:\n",
        " return"
      ]
    },
    {
      "cell_type": "code",
      "source": [
        "def jakub:\n",
        "  return"
      ],
      "metadata": {
        "id": "DeseeuaTOc0f"
      },
      "execution_count": null,
      "outputs": []
    },
    {
      "cell_type": "code",
      "source": [
        "michal\n",
        "jakub"
      ],
      "metadata": {
        "id": "0i1J-eQiOc8n"
      },
      "execution_count": null,
      "outputs": []
    }
  ]
}