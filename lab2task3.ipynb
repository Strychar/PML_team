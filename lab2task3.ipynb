{
  "nbformat": 4,
  "nbformat_minor": 0,
  "metadata": {
    "colab": {
      "provenance": [],
      "include_colab_link": true
    },
    "kernelspec": {
      "name": "python3",
      "display_name": "Python 3"
    },
    "language_info": {
      "name": "python"
    }
  },
  "cells": [
    {
      "cell_type": "markdown",
      "metadata": {
        "id": "view-in-github",
        "colab_type": "text"
      },
      "source": [
        "<a href=\"https://colab.research.google.com/github/Strychar/PML_team/blob/michal/lab2task3.ipynb\" target=\"_parent\"><img src=\"https://colab.research.google.com/assets/colab-badge.svg\" alt=\"Open In Colab\"/></a>"
      ]
    },
    {
      "cell_type": "code",
      "execution_count": 4,
      "metadata": {
        "id": "VWZI_nUUOadi"
      },
      "outputs": [],
      "source": [

        "def michal():\n",
        "  print(\"Michal\")"

      ]
    },
    {
      "cell_type": "code",
      "source": [
        "def jakub():\n",
        "  print(\"Jakub\")"
      ],
      "metadata": {
        "id": "DeseeuaTOc0f"
      },
      "execution_count": 1,
      "outputs": []
    },
    {
      "cell_type": "code",
      "source": [
        "michal()\n",
        "jakub()"
      ],
      "metadata": {
        "colab": {
          "base_uri": "https://localhost:8080/"
        },
        "id": "0i1J-eQiOc8n",
        "outputId": "5bbee8ef-632a-4540-9f9a-9f72fae152d6"
      },
      "execution_count": 5,
      "outputs": [
        {
          "output_type": "stream",
          "name": "stdout",
          "text": [
            "a\n",
            "Jakub\n"
          ]
        }
      ]
    }
  ]
}